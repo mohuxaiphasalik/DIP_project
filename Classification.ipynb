{
  "cells": [
    {
      "cell_type": "markdown",
      "source": [
        "**Mount the Drive**"
      ],
      "metadata": {
        "id": "hCpHfRTuElvd"
      }
    },
    {
      "cell_type": "code",
      "execution_count": null,
      "metadata": {
        "id": "ctABC2FTXLS9"
      },
      "outputs": [],
      "source": [
        "from google.colab import drive\n",
        "drive.mount('/content/drive') "
      ]
    },
    {
      "cell_type": "markdown",
      "metadata": {
        "id": "Kq5QT9KryEYu"
      },
      "source": [
        "**Import Some Necassary Pakcages**"
      ]
    },
    {
      "cell_type": "code",
      "execution_count": 8,
      "metadata": {
        "id": "MGAyrQJDXa8-"
      },
      "outputs": [],
      "source": [
        "import tensorflow as tf\n",
        "from tqdm import tqdm\n",
        "import numpy as np\n",
        "import os\n",
        "import sys\n",
        "import cv2\n",
        "import matplotlib.pyplot as plt\n",
        "\n",
        "import pickle\n",
        "import random\n",
        "from tensorflow.keras.models import Sequential\n",
        "from tensorflow.keras.layers import Activation, Dense, Flatten, BatchNormalization, Conv2D, MaxPool2D,GlobalAveragePooling2D\n",
        "from tensorflow.keras.optimizers import Adam,SGD,RMSprop,Adagrad\n",
        "import tensorflow as tf\n",
        "from keras import Sequential\n",
        "from keras.layers import Dense,Dropout,Activation, Flatten,Conv2D,MaxPooling2D\n",
        "import pickle\n",
        "import matplotlib.pyplot as plt\n",
        "from sklearn.preprocessing import LabelEncoder\n",
        "from tensorflow.keras.utils import to_categorical\n",
        "from sklearn.model_selection import train_test_split\n",
        "from sklearn.metrics import accuracy_score, confusion_matrix, ConfusionMatrixDisplay"
      ]
    },
    {
      "cell_type": "markdown",
      "source": [
        "\"i\" is an array which will have images from all the directorires\n",
        "\n",
        "\"l\" is an array which will have labels as string form (title of the folder)\n",
        "\n",
        "**Inatialize the paths of training directory and its folders**"
      ],
      "metadata": {
        "id": "8a5s9AyjE_QA"
      }
    },
    {
      "cell_type": "code",
      "execution_count": 12,
      "metadata": {
        "id": "AIahk3ncXndo"
      },
      "outputs": [],
      "source": [
        "i=[]\n",
        "l=[]\n",
        "size=128\n",
        "ate='/content/drive/MyDrive/Training/1. ATELECTASIS'\n",
        "car='/content/drive/MyDrive/Training/2. CARDIOMEGALY'\n",
        "con='/content/drive/MyDrive/Training/3. CONSOLIDATION'\n",
        "ede='/content/drive/MyDrive/Training/4. EDEMA'\n",
        "nof='/content/drive/MyDrive/Training/9. NO FINDING'\n",
        "ple='/content/drive/MyDrive/Training/10. PLEURAL EFFUSION'\n",
        "\n"
      ]
    },
    {
      "cell_type": "markdown",
      "source": [
        "**Inatialize the paths of validation directory and its folders**"
      ],
      "metadata": {
        "id": "rj-0N-qGFy6b"
      }
    },
    {
      "cell_type": "code",
      "execution_count": 15,
      "metadata": {
        "id": "g2Fh9oQg1b2T"
      },
      "outputs": [],
      "source": [
        "i=[]\n",
        "l=[]\n",
        "ate='/content/drive/MyDrive/Validation/1. ATELECTASIS'\n",
        "car='/content/drive/MyDrive/Validation/2. CARDIOMEGALY'\n",
        "con='/content/drive/MyDrive/Validation/3. CONSOLIDATION'\n",
        "ede='/content/drive/MyDrive/Validation/4. EDEMA'\n",
        "nof='/content/drive/MyDrive/Validation/9. NO FINDING'\n",
        "ple='/content/drive/MyDrive/Validation/10. PLEURAL EFFUSION'"
      ]
    },
    {
      "cell_type": "markdown",
      "source": [
        "This Function will return Catagory of the image ( label of image)"
      ],
      "metadata": {
        "id": "jZJowfT_F6lK"
      }
    },
    {
      "cell_type": "code",
      "execution_count": 10,
      "metadata": {
        "id": "YqnQ9CnJYYMR"
      },
      "outputs": [],
      "source": [
        "def get_label(img,cat):\n",
        "    return cat"
      ]
    },
    {
      "cell_type": "markdown",
      "source": [
        "This Function will itarate given Directory (DIR) and will read all the images resize them and will add them to the i vector.\n",
        "\n",
        "*   As For labels it will be passed on while calling the function and for every image read the label will be added to l vector.\n",
        "\n",
        "\n",
        "\n",
        "---\n",
        "\n",
        "\n",
        "*   **While doing this porject I noticed that the Data for EDEMA is not sufficent and Data for PLEURAL EFFUSION is not enough. so I did data augmentation on these two folder which signaficantly improved my results**\n",
        "\n",
        "\n",
        "---"
      ],
      "metadata": {
        "id": "WN8zSxViGAkx"
      }
    },
    {
      "cell_type": "code",
      "execution_count": 11,
      "metadata": {
        "id": "5J_9Oj19YZgv"
      },
      "outputs": [],
      "source": [
        "def make_data_set(cat, DIR):\n",
        "    for img in tqdm(os.listdir(DIR)):\n",
        "        label = get_label(img, cat)\n",
        "        img_path = os.path.join(DIR, img)\n",
        "        img = cv2.imread(img_path, cv2.IMREAD_COLOR)\n",
        "        img = cv2.resize(img, (size, size))\n",
        "        i.append(np.array(img))\n",
        "        l.append(str(label))\n",
        "        if cat==\"EDEMA\" or cat==\"PLEURAL EFFUSION\":\n",
        "                img = cv2.flip(img, 0)\n",
        "                i.append(np.array(img))\n",
        "                l.append(str(label))\n",
        "                img = cv2.flip(img, 1)\n",
        "                i.append(np.array(img))\n",
        "                l.append(str(label))\n",
        "                      "
      ]
    },
    {
      "cell_type": "markdown",
      "source": [
        "Calling the function one by one for each label/catagory\n",
        "\n",
        "\n",
        "*   Final label matrix will have string label equal to number of images in \"i\"\n",
        "*   Change that label matrix in to one-hot codding form by calling in built function\n",
        "*   Normalize the image array\n",
        "*   Now shuffle the data (labels as well as images) to make data more random"
      ],
      "metadata": {
        "id": "iMUVfw0JHEpB"
      }
    },
    {
      "cell_type": "code",
      "execution_count": 16,
      "metadata": {
        "colab": {
          "base_uri": "https://localhost:8080/"
        },
        "id": "4mt5JVesP6Qc",
        "outputId": "86e5b7cd-87c2-42a0-c710-e1aef2648e6a"
      },
      "outputs": [
        {
          "output_type": "stream",
          "name": "stderr",
          "text": [
            "100%|██████████| 92/92 [00:01<00:00, 47.71it/s]\n",
            "100%|██████████| 102/102 [00:02<00:00, 44.05it/s]\n",
            "100%|██████████| 104/104 [00:02<00:00, 42.08it/s]\n",
            "100%|██████████| 5/5 [00:00<00:00, 51.05it/s]\n",
            "100%|██████████| 97/97 [00:01<00:00, 50.37it/s]\n",
            "100%|██████████| 100/100 [00:02<00:00, 44.04it/s]\n"
          ]
        }
      ],
      "source": [
        "make_data_set('ATELECTASIS',ate)\n",
        "make_data_set('CARDIOMEGALY',car)\n",
        "make_data_set('CONSOLIDATION',con)\n",
        "make_data_set('EDEMA',ede)\n",
        "make_data_set('NO FINDING',nof)\n",
        "make_data_set('PLEURAL EFFUSION',ple)\n",
        "le=LabelEncoder()\n",
        "L=le.fit_transform(l)\n",
        "L=to_categorical(L,6)\n",
        "I=np.array(i)\n",
        "I=I/255\n",
        "I=tf.random.shuffle(I,123)\n",
        "L=tf.random.shuffle(L,123)"
      ]
    },
    {
      "cell_type": "markdown",
      "source": [
        "Below two Sections will save npy arrays"
      ],
      "metadata": {
        "id": "nwhHcIwjHwIv"
      }
    },
    {
      "cell_type": "code",
      "execution_count": 14,
      "metadata": {
        "id": "tPeeKAte0df3"
      },
      "outputs": [],
      "source": [
        "np.save('train_x',I)\n",
        "np.save('train_y',L)"
      ]
    },
    {
      "cell_type": "code",
      "execution_count": 17,
      "metadata": {
        "id": "cMc7c2_r0bb0"
      },
      "outputs": [],
      "source": [
        "np.save('valid_x',I)\n",
        "np.save('valid_y',L)"
      ]
    },
    {
      "cell_type": "markdown",
      "source": [
        "Read NP array as images and labels"
      ],
      "metadata": {
        "id": "jU7zCoZ_H46E"
      }
    },
    {
      "cell_type": "code",
      "execution_count": 18,
      "metadata": {
        "id": "s13C8YXYTxul"
      },
      "outputs": [],
      "source": [
        "train_images=np.load('/content/train_x.npy')\n",
        "train_labels=np.load('/content/train_y.npy')\n",
        "valid_images=np.load('/content/valid_x.npy')\n",
        "valid_labels=np.load('/content/valid_y.npy')"
      ]
    },
    {
      "cell_type": "code",
      "execution_count": 19,
      "metadata": {
        "colab": {
          "base_uri": "https://localhost:8080/"
        },
        "id": "yGaCMJgp2Leh",
        "outputId": "d9eb3a18-b07a-4ed9-e953-faf98b69377b"
      },
      "outputs": [
        {
          "output_type": "stream",
          "name": "stdout",
          "text": [
            "(2086, 128, 128, 3) (2086, 6)\n",
            "(710, 128, 128, 3) (710, 6)\n"
          ]
        }
      ],
      "source": [
        "print(train_images.shape,train_labels.shape)\n",
        "print(valid_images.shape,valid_labels.shape)"
      ]
    },
    {
      "cell_type": "code",
      "execution_count": 26,
      "metadata": {
        "id": "jDuXNta318mG"
      },
      "outputs": [],
      "source": [
        "activation=\"tanh\"\n",
        "model = Sequential([\n",
        "    Conv2D(filters=32, kernel_size=(3, 3), activation=activation,kernel_regularizer='l2', padding = 'same', input_shape=(size,size,3)),\n",
        "    BatchNormalization(),\n",
        "    MaxPooling2D(pool_size=(2, 2)),\n",
        "    Conv2D(filters=64, kernel_size=(3, 3), activation=activation, padding = 'same'),\n",
        "    BatchNormalization(),\n",
        "    MaxPooling2D(pool_size=(2, 2)),\n",
        "    Conv2D(filters=128, kernel_size=(3, 3), activation='relu',padding='same'),\n",
        "    BatchNormalization(),\n",
        "    MaxPooling2D(pool_size=(2, 2)),\n",
        "    Conv2D(filters=256, kernel_size=(3, 3), activation='elu', padding = 'same'),\n",
        "    BatchNormalization(),\n",
        "    MaxPooling2D(pool_size=(2, 2)),\n",
        "    Dropout(0.4),\n",
        "    Flatten(),\n",
        "    Dense(units=128, activation=activation,name='d1', dtype='float32'),    \n",
        "    Dense(units=64, activation=activation,name='d2', dtype='float32'),\n",
        "    Dense(units=16, activation=activation,name='d3', dtype='float32'),\n",
        "    Dense(units=32, activation='relu',name='d4', dtype='float32'),\n",
        "    Dense(units=6, activation='softmax',name='Output', dtype='float32')\n",
        "])"
      ]
    },
    {
      "cell_type": "code",
      "execution_count": 29,
      "metadata": {
        "id": "h2nAsO992cfn"
      },
      "outputs": [],
      "source": [
        "# Adam,SGD,RMSprop,Adagrad\n",
        "my_optimiser = SGD(learning_rate=0.001)\n",
        "model.compile(loss='categorical_crossentropy', optimizer=my_optimiser, metrics=['categorical_accuracy'])"
      ]
    },
    {
      "cell_type": "code",
      "execution_count": 22,
      "metadata": {
        "id": "VJ6B0yYn3LgO",
        "colab": {
          "base_uri": "https://localhost:8080/"
        },
        "outputId": "e6527c80-7fa4-4b35-d932-db82ca800f51"
      },
      "outputs": [
        {
          "output_type": "stream",
          "name": "stdout",
          "text": [
            "Model: \"sequential\"\n",
            "_________________________________________________________________\n",
            " Layer (type)                Output Shape              Param #   \n",
            "=================================================================\n",
            " conv2d (Conv2D)             (None, 128, 128, 32)      896       \n",
            "                                                                 \n",
            " batch_normalization (BatchN  (None, 128, 128, 32)     128       \n",
            " ormalization)                                                   \n",
            "                                                                 \n",
            " max_pooling2d (MaxPooling2D  (None, 64, 64, 32)       0         \n",
            " )                                                               \n",
            "                                                                 \n",
            " conv2d_1 (Conv2D)           (None, 64, 64, 64)        18496     \n",
            "                                                                 \n",
            " batch_normalization_1 (Batc  (None, 64, 64, 64)       256       \n",
            " hNormalization)                                                 \n",
            "                                                                 \n",
            " max_pooling2d_1 (MaxPooling  (None, 32, 32, 64)       0         \n",
            " 2D)                                                             \n",
            "                                                                 \n",
            " conv2d_2 (Conv2D)           (None, 32, 32, 128)       73856     \n",
            "                                                                 \n",
            " batch_normalization_2 (Batc  (None, 32, 32, 128)      512       \n",
            " hNormalization)                                                 \n",
            "                                                                 \n",
            " max_pooling2d_2 (MaxPooling  (None, 16, 16, 128)      0         \n",
            " 2D)                                                             \n",
            "                                                                 \n",
            " conv2d_3 (Conv2D)           (None, 16, 16, 256)       295168    \n",
            "                                                                 \n",
            " batch_normalization_3 (Batc  (None, 16, 16, 256)      1024      \n",
            " hNormalization)                                                 \n",
            "                                                                 \n",
            " max_pooling2d_3 (MaxPooling  (None, 8, 8, 256)        0         \n",
            " 2D)                                                             \n",
            "                                                                 \n",
            " dropout (Dropout)           (None, 8, 8, 256)         0         \n",
            "                                                                 \n",
            " flatten (Flatten)           (None, 16384)             0         \n",
            "                                                                 \n",
            " d1 (Dense)                  (None, 128)               2097280   \n",
            "                                                                 \n",
            " d2 (Dense)                  (None, 64)                8256      \n",
            "                                                                 \n",
            " d3 (Dense)                  (None, 16)                1040      \n",
            "                                                                 \n",
            " d4 (Dense)                  (None, 32)                544       \n",
            "                                                                 \n",
            " Output (Dense)              (None, 6)                 198       \n",
            "                                                                 \n",
            "=================================================================\n",
            "Total params: 2,497,654\n",
            "Trainable params: 2,496,694\n",
            "Non-trainable params: 960\n",
            "_________________________________________________________________\n"
          ]
        }
      ],
      "source": [
        "model.summary()"
      ]
    },
    {
      "cell_type": "markdown",
      "source": [
        "While training the model suffling helped to improve accuracy"
      ],
      "metadata": {
        "id": "K2eknmvdIA_A"
      }
    },
    {
      "cell_type": "code",
      "execution_count": 28,
      "metadata": {
        "colab": {
          "base_uri": "https://localhost:8080/"
        },
        "collapsed": true,
        "id": "sSEQDnul3PWs",
        "outputId": "0e40f3e6-5d05-4681-cee6-80bd9a2ea7de"
      },
      "outputs": [
        {
          "output_type": "stream",
          "name": "stdout",
          "text": [
            "Epoch 1/50\n",
            "209/209 [==============================] - 4s 15ms/step - loss: 1.3961 - categorical_accuracy: 0.4477 - val_loss: 1.4524 - val_categorical_accuracy: 0.4282\n",
            "Epoch 2/50\n",
            "209/209 [==============================] - 3s 12ms/step - loss: 1.2716 - categorical_accuracy: 0.4976 - val_loss: 1.2362 - val_categorical_accuracy: 0.5099\n",
            "Epoch 3/50\n",
            "209/209 [==============================] - 3s 14ms/step - loss: 1.2145 - categorical_accuracy: 0.5201 - val_loss: 1.2023 - val_categorical_accuracy: 0.5155\n",
            "Epoch 4/50\n",
            "209/209 [==============================] - 3s 12ms/step - loss: 1.1823 - categorical_accuracy: 0.5412 - val_loss: 1.2181 - val_categorical_accuracy: 0.5254\n",
            "Epoch 5/50\n",
            "209/209 [==============================] - 3s 13ms/step - loss: 1.1566 - categorical_accuracy: 0.5499 - val_loss: 1.1212 - val_categorical_accuracy: 0.5507\n",
            "Epoch 6/50\n",
            "209/209 [==============================] - 3s 13ms/step - loss: 1.1371 - categorical_accuracy: 0.5551 - val_loss: 1.1664 - val_categorical_accuracy: 0.5324\n",
            "Epoch 7/50\n",
            "209/209 [==============================] - 3s 13ms/step - loss: 1.1260 - categorical_accuracy: 0.5556 - val_loss: 1.1114 - val_categorical_accuracy: 0.5676\n",
            "Epoch 8/50\n",
            "209/209 [==============================] - 3s 14ms/step - loss: 1.1118 - categorical_accuracy: 0.5614 - val_loss: 1.2917 - val_categorical_accuracy: 0.4423\n",
            "Epoch 9/50\n",
            "209/209 [==============================] - 3s 13ms/step - loss: 1.1151 - categorical_accuracy: 0.5547 - val_loss: 1.1412 - val_categorical_accuracy: 0.5437\n",
            "Epoch 10/50\n",
            "209/209 [==============================] - 3s 13ms/step - loss: 1.0951 - categorical_accuracy: 0.5614 - val_loss: 1.0802 - val_categorical_accuracy: 0.5817\n",
            "Epoch 11/50\n",
            "209/209 [==============================] - 3s 13ms/step - loss: 1.0907 - categorical_accuracy: 0.5657 - val_loss: 1.0968 - val_categorical_accuracy: 0.5831\n",
            "Epoch 12/50\n",
            "209/209 [==============================] - 3s 14ms/step - loss: 1.0720 - categorical_accuracy: 0.5753 - val_loss: 1.0875 - val_categorical_accuracy: 0.5620\n",
            "Epoch 13/50\n",
            "209/209 [==============================] - 4s 17ms/step - loss: 1.0714 - categorical_accuracy: 0.5815 - val_loss: 1.0949 - val_categorical_accuracy: 0.5746\n",
            "Epoch 14/50\n",
            "209/209 [==============================] - 3s 13ms/step - loss: 1.0480 - categorical_accuracy: 0.5868 - val_loss: 1.1469 - val_categorical_accuracy: 0.5451\n",
            "Epoch 15/50\n",
            "209/209 [==============================] - 3s 13ms/step - loss: 1.0558 - categorical_accuracy: 0.5743 - val_loss: 1.1474 - val_categorical_accuracy: 0.5507\n",
            "Epoch 16/50\n",
            "209/209 [==============================] - 3s 14ms/step - loss: 1.0334 - categorical_accuracy: 0.5896 - val_loss: 1.1228 - val_categorical_accuracy: 0.5803\n",
            "Epoch 17/50\n",
            "209/209 [==============================] - 3s 13ms/step - loss: 1.0253 - categorical_accuracy: 0.5935 - val_loss: 1.1363 - val_categorical_accuracy: 0.5465\n",
            "Epoch 18/50\n",
            "209/209 [==============================] - 3s 14ms/step - loss: 1.0221 - categorical_accuracy: 0.6021 - val_loss: 1.0773 - val_categorical_accuracy: 0.5775\n",
            "Epoch 19/50\n",
            "209/209 [==============================] - 3s 13ms/step - loss: 1.0023 - categorical_accuracy: 0.6059 - val_loss: 1.0937 - val_categorical_accuracy: 0.5746\n",
            "Epoch 20/50\n",
            "209/209 [==============================] - 3s 14ms/step - loss: 1.0040 - categorical_accuracy: 0.5964 - val_loss: 1.1035 - val_categorical_accuracy: 0.5704\n",
            "Epoch 21/50\n",
            "209/209 [==============================] - 3s 13ms/step - loss: 1.0012 - categorical_accuracy: 0.6026 - val_loss: 1.1420 - val_categorical_accuracy: 0.5662\n",
            "Epoch 22/50\n",
            "209/209 [==============================] - 3s 13ms/step - loss: 1.0003 - categorical_accuracy: 0.5968 - val_loss: 1.2867 - val_categorical_accuracy: 0.4901\n",
            "Epoch 23/50\n",
            "209/209 [==============================] - 3s 14ms/step - loss: 0.9875 - categorical_accuracy: 0.6059 - val_loss: 1.8224 - val_categorical_accuracy: 0.3141\n",
            "Epoch 24/50\n",
            "209/209 [==============================] - 3s 14ms/step - loss: 0.9986 - categorical_accuracy: 0.5959 - val_loss: 1.0790 - val_categorical_accuracy: 0.5845\n",
            "Epoch 25/50\n",
            "209/209 [==============================] - 3s 14ms/step - loss: 0.9712 - categorical_accuracy: 0.6026 - val_loss: 1.0928 - val_categorical_accuracy: 0.5718\n",
            "Epoch 26/50\n",
            "209/209 [==============================] - 3s 13ms/step - loss: 0.9570 - categorical_accuracy: 0.6107 - val_loss: 1.1136 - val_categorical_accuracy: 0.5437\n",
            "Epoch 27/50\n",
            "209/209 [==============================] - 3s 14ms/step - loss: 0.9767 - categorical_accuracy: 0.6055 - val_loss: 1.4422 - val_categorical_accuracy: 0.4732\n",
            "Epoch 28/50\n",
            "209/209 [==============================] - 3s 13ms/step - loss: 0.9693 - categorical_accuracy: 0.6074 - val_loss: 1.2520 - val_categorical_accuracy: 0.4803\n",
            "Epoch 29/50\n",
            "209/209 [==============================] - 3s 14ms/step - loss: 0.9593 - categorical_accuracy: 0.6035 - val_loss: 1.0963 - val_categorical_accuracy: 0.5676\n",
            "Epoch 30/50\n",
            "209/209 [==============================] - 3s 13ms/step - loss: 0.9591 - categorical_accuracy: 0.6151 - val_loss: 1.2353 - val_categorical_accuracy: 0.4958\n",
            "Epoch 31/50\n",
            "209/209 [==============================] - 3s 13ms/step - loss: 0.9307 - categorical_accuracy: 0.6333 - val_loss: 1.1599 - val_categorical_accuracy: 0.5465\n",
            "Epoch 32/50\n",
            "209/209 [==============================] - 3s 14ms/step - loss: 0.9503 - categorical_accuracy: 0.6198 - val_loss: 1.1398 - val_categorical_accuracy: 0.5549\n",
            "Epoch 33/50\n",
            "209/209 [==============================] - 3s 13ms/step - loss: 0.9109 - categorical_accuracy: 0.6390 - val_loss: 1.3219 - val_categorical_accuracy: 0.4944\n",
            "Epoch 34/50\n",
            "209/209 [==============================] - 3s 13ms/step - loss: 0.8987 - categorical_accuracy: 0.6357 - val_loss: 1.1035 - val_categorical_accuracy: 0.5718\n",
            "Epoch 35/50\n",
            "209/209 [==============================] - 3s 13ms/step - loss: 0.8995 - categorical_accuracy: 0.6457 - val_loss: 1.1993 - val_categorical_accuracy: 0.5535\n",
            "Epoch 36/50\n",
            "209/209 [==============================] - 3s 14ms/step - loss: 0.8892 - categorical_accuracy: 0.6390 - val_loss: 1.3217 - val_categorical_accuracy: 0.4944\n",
            "Epoch 37/50\n",
            "209/209 [==============================] - 3s 13ms/step - loss: 0.9027 - categorical_accuracy: 0.6294 - val_loss: 1.1459 - val_categorical_accuracy: 0.5690\n",
            "Epoch 38/50\n",
            "209/209 [==============================] - 3s 14ms/step - loss: 0.8844 - categorical_accuracy: 0.6448 - val_loss: 1.2027 - val_categorical_accuracy: 0.5338\n",
            "Epoch 39/50\n",
            "209/209 [==============================] - 3s 14ms/step - loss: 0.9182 - categorical_accuracy: 0.6333 - val_loss: 1.2675 - val_categorical_accuracy: 0.5211\n",
            "Epoch 40/50\n",
            "209/209 [==============================] - 4s 18ms/step - loss: 0.9084 - categorical_accuracy: 0.6270 - val_loss: 1.1196 - val_categorical_accuracy: 0.5746\n",
            "Epoch 41/50\n",
            "209/209 [==============================] - 3s 14ms/step - loss: 0.9078 - categorical_accuracy: 0.6304 - val_loss: 1.1779 - val_categorical_accuracy: 0.5606\n",
            "Epoch 42/50\n",
            "209/209 [==============================] - 3s 13ms/step - loss: 0.8854 - categorical_accuracy: 0.6491 - val_loss: 1.1919 - val_categorical_accuracy: 0.5366\n",
            "Epoch 43/50\n",
            "209/209 [==============================] - 3s 13ms/step - loss: 0.8749 - categorical_accuracy: 0.6539 - val_loss: 1.9786 - val_categorical_accuracy: 0.3845\n",
            "Epoch 44/50\n",
            "209/209 [==============================] - 3s 14ms/step - loss: 0.9036 - categorical_accuracy: 0.6400 - val_loss: 1.1837 - val_categorical_accuracy: 0.5592\n",
            "Epoch 45/50\n",
            "209/209 [==============================] - 3s 14ms/step - loss: 0.8892 - categorical_accuracy: 0.6457 - val_loss: 1.2064 - val_categorical_accuracy: 0.5183\n",
            "Epoch 46/50\n",
            "209/209 [==============================] - 3s 15ms/step - loss: 0.8605 - categorical_accuracy: 0.6640 - val_loss: 1.1577 - val_categorical_accuracy: 0.5507\n",
            "Epoch 47/50\n",
            "209/209 [==============================] - 3s 13ms/step - loss: 0.8585 - categorical_accuracy: 0.6644 - val_loss: 1.3684 - val_categorical_accuracy: 0.4718\n",
            "Epoch 48/50\n",
            "209/209 [==============================] - 3s 13ms/step - loss: 0.8685 - categorical_accuracy: 0.6505 - val_loss: 1.1989 - val_categorical_accuracy: 0.5324\n",
            "Epoch 49/50\n",
            "209/209 [==============================] - 3s 13ms/step - loss: 0.8889 - categorical_accuracy: 0.6496 - val_loss: 1.2294 - val_categorical_accuracy: 0.5254\n",
            "Epoch 50/50\n",
            "209/209 [==============================] - 3s 16ms/step - loss: 0.8591 - categorical_accuracy: 0.6707 - val_loss: 1.1523 - val_categorical_accuracy: 0.5577\n"
          ]
        },
        {
          "output_type": "execute_result",
          "data": {
            "text/plain": [
              "<keras.callbacks.History at 0x7f27082d7210>"
            ]
          },
          "metadata": {},
          "execution_count": 28
        }
      ],
      "source": [
        "model.fit(train_images, train_labels,batch_size=10, epochs=50,validation_data=(valid_images,valid_labels),validation_batch_size=5,shuffle=True)"
      ]
    },
    {
      "cell_type": "code",
      "execution_count": null,
      "metadata": {
        "colab": {
          "base_uri": "https://localhost:8080/"
        },
        "id": "l48I5ot65Dre",
        "outputId": "0951041d-4ade-42d6-fc98-c17865bd7a7e"
      },
      "outputs": [
        {
          "name": "stdout",
          "output_type": "stream",
          "text": [
            "INFO:tensorflow:Assets written to: model/assets\n"
          ]
        }
      ],
      "source": [
        "model.save('model')"
      ]
    },
    {
      "cell_type": "code",
      "execution_count": 24,
      "metadata": {
        "id": "KCNvi52bwEPY"
      },
      "outputs": [],
      "source": [
        "my_predictions = model.predict(valid_images)"
      ]
    },
    {
      "cell_type": "code",
      "execution_count": 25,
      "metadata": {
        "colab": {
          "base_uri": "https://localhost:8080/",
          "height": 282
        },
        "id": "GlbOxGjLyeko",
        "outputId": "876fb01a-22da-4975-af71-f16b6a72b2ea"
      },
      "outputs": [
        {
          "output_type": "display_data",
          "data": {
            "text/plain": [
              "<Figure size 432x288 with 2 Axes>"
            ],
            "image/png": "[encoded data removed]"
          },
          "metadata": {
            "needs_background": "light"
          }
        }
      ],
      "source": [
        "cmd = ConfusionMatrixDisplay((confusion_matrix(list(np.argmax(valid_labels, axis=1)), list(np.argmax(my_predictions, axis=1)))))\n",
        "cmd.plot()\n",
        "plt.show()"
      ]
    }
  ],
  "metadata": {
    "accelerator": "GPU",
    "colab": {
      "collapsed_sections": [],
      "name": "DIPprojectV2.ipynb",
      "provenance": []
    },
    "kernelspec": {
      "display_name": "Python 3",
      "name": "python3"
    },
    "language_info": {
      "name": "python"
    }
  },
  "nbformat": 4,
  "nbformat_minor": 0
}